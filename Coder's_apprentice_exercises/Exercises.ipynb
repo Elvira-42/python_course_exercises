{
 "cells": [
  {
   "cell_type": "code",
   "execution_count": 4,
   "id": "eb0df10a-4611-4447-800f-c1a55650cb75",
   "metadata": {},
   "outputs": [
    {
     "name": "stdout",
     "output_type": "stream",
     "text": [
      "The total wholesale cost is: 945.45 €\n"
     ]
    }
   ],
   "source": [
    "#Exercise 1.2\n",
    "bookPrice=24.95\n",
    "NumBooks=60\n",
    "DiscountPercent=40\n",
    "FirstShipping=3\n",
    "NextShipping=0.75\n",
    "\n",
    "DiscountPrice=bookPrice-(DiscountPercent*bookPrice/100)\n",
    "TotBooks=NumBooks*DiscountPrice\n",
    "\n",
    "TotShipping=FirstShipping+(NumBooks-1)*NextShipping\n",
    "\n",
    "TotPrice=round(TotBooks+TotShipping,2)\n",
    "print(\"The total wholesale cost is:\",TotPrice,\"€\")"
   ]
  },
  {
   "cell_type": "code",
   "execution_count": 6,
   "id": "09e8e45a-9de6-49c6-8f17-ea584226b6ea",
   "metadata": {},
   "outputs": [
    {
     "name": "stdin",
     "output_type": "stream",
     "text": [
      "Insert a number: 3\n"
     ]
    },
    {
     "ename": "ZeroDivisionError",
     "evalue": "division by zero",
     "output_type": "error",
     "traceback": [
      "\u001b[0;31m---------------------------------------------------------------------------\u001b[0m",
      "\u001b[0;31mZeroDivisionError\u001b[0m                         Traceback (most recent call last)",
      "Cell \u001b[0;32mIn[6], line 6\u001b[0m\n\u001b[1;32m      4\u001b[0m c\u001b[38;5;241m=\u001b[39m\u001b[38;5;28mint\u001b[39m(a\u001b[38;5;241m/\u001b[39mb)\n\u001b[1;32m      5\u001b[0m d\u001b[38;5;241m=\u001b[39m\u001b[38;5;28mint\u001b[39m(\u001b[38;5;28minput\u001b[39m(\u001b[38;5;124m\"\u001b[39m\u001b[38;5;124mInsert a number:\u001b[39m\u001b[38;5;124m\"\u001b[39m))\n\u001b[0;32m----> 6\u001b[0m ZeroDiv\u001b[38;5;241m=\u001b[39m\u001b[43md\u001b[49m\u001b[38;5;241;43m/\u001b[39;49m\u001b[43mc\u001b[49m\n",
      "\u001b[0;31mZeroDivisionError\u001b[0m: division by zero"
     ]
    }
   ],
   "source": [
    "#Exercise 1.3\n",
    "a=2\n",
    "b=3\n",
    "c=int(a/b)\n",
    "d=int(input(\"Insert a number:\"))\n",
    "ZeroDiv=d/c"
   ]
  },
  {
   "cell_type": "code",
   "execution_count": 10,
   "id": "c3149027-866d-4b56-a401-48ef3dd7b088",
   "metadata": {},
   "outputs": [
    {
     "name": "stdout",
     "output_type": "stream",
     "text": [
      "The alarm clock will ring at 21.00\n"
     ]
    }
   ],
   "source": [
    "#Exercise 1.4\n",
    "now=14\n",
    "hours=535\n",
    "extraH=hours%24\n",
    "alarmH=str(now+extraH)\n",
    "time=str(alarmH+\".00\")\n",
    "print(\"The alarm clock will ring at\",time)"
   ]
  },
  {
   "cell_type": "code",
   "execution_count": 16,
   "id": "aa237353-24b1-47bc-a780-7fcd7607b64f",
   "metadata": {},
   "outputs": [
    {
     "name": "stdout",
     "output_type": "stream",
     "text": [
      "541.3333333333334 220 443 961\n"
     ]
    }
   ],
   "source": [
    "#Book_Chapter4_4.1\n",
    "#Calculate the average of three numbers\n",
    "\n",
    "#defining the variables\n",
    "from random import randint\n",
    "var1=randint(1,1000)\n",
    "var2=randint(1,1000)\n",
    "var3=randint(1,1000)\n",
    "\n",
    "#calculating the averages\n",
    "avg=(var1+var2+var3)/3\n",
    "print(avg, var1, var2, var3)"
   ]
  },
  {
   "cell_type": "code",
   "execution_count": 35,
   "id": "22d94469-6d1f-440b-bfdf-de351d491e32",
   "metadata": {
    "editable": true,
    "slideshow": {
     "slide_type": ""
    },
    "tags": []
   },
   "outputs": [
    {
     "name": "stdout",
     "output_type": "stream",
     "text": [
      "The area of the circle is: 28.274333882308138 cm^2\n"
     ]
    }
   ],
   "source": [
    "#Book_Chapter4_4.2\n",
    "#area of a circle\n",
    "from math import pi\n",
    "r=3\n",
    "Acircle=pi*pow(r,2)\n",
    "print(\"The area of the circle is:\",Acircle,\"cm^2\")"
   ]
  },
  {
   "cell_type": "code",
   "execution_count": 29,
   "id": "a91c2947-f580-49d3-8cb2-d597b4c78c96",
   "metadata": {},
   "outputs": [
    {
     "name": "stdout",
     "output_type": "stream",
     "text": [
      "13 3 1 0 4\n"
     ]
    }
   ],
   "source": [
    "#Book_Chapter4_4.3\n",
    "#converting pennies to higher denominations (no loops)\n",
    "\n",
    "amount=1389\n",
    "dollar=100\n",
    "quarter=25\n",
    "dime=10\n",
    "nickle=5\n",
    "penny=1\n",
    "\n",
    "Ndollars=int(amount/dollar)\n",
    "res=amount%dollar\n",
    "Nquarters=int(res/quarter)\n",
    "res=res%quarter\n",
    "Ndimes=int(res/dime)\n",
    "res=res%dime\n",
    "Nnickles=int(res/nickle)\n",
    "res=res%nickle\n",
    "Npennies=res\n",
    "print(Ndollars,Nquarters,Ndimes,Nnickles,Npennies)"
   ]
  },
  {
   "cell_type": "code",
   "execution_count": 31,
   "id": "4b2ce142-ad22-4c76-8a99-3f969ee3728c",
   "metadata": {},
   "outputs": [
    {
     "name": "stdout",
     "output_type": "stream",
     "text": [
      "[13, 3, 1, 0, 4]\n"
     ]
    }
   ],
   "source": [
    "#Book_Chapter4_4.3\n",
    "#converting pennies to higher denominations (with loop)\n",
    "\n",
    "amount=1389\n",
    "denominations=[100,25,10,5,1]\n",
    "NxDenomination=[]\n",
    "\n",
    "for i in denominations:\n",
    "    NxDenomination.append(int(amount/i))\n",
    "    res=amount%i\n",
    "    amount=amount-(int(amount/i)*i)\n",
    "\n",
    "print(NxDenomination)"
   ]
  },
  {
   "cell_type": "code",
   "execution_count": 34,
   "id": "659aa3db-c06d-4de9-b052-4a18570f2507",
   "metadata": {},
   "outputs": [
    {
     "name": "stdout",
     "output_type": "stream",
     "text": [
      "a= 17 b= 23\n",
      "a= 23 b= 17\n"
     ]
    }
   ],
   "source": [
    "#Book_Chapter4_4.4\n",
    "#swapping values of two variables without introducing a third\n",
    "\n",
    "a=17\n",
    "b=23\n",
    "print(\"a=\",a,\"b=\",b)\n",
    "\n",
    "a=a+b\n",
    "b=a-b\n",
    "a=a-b\n",
    "print(\"a=\",a,\"b=\",b)"
   ]
  },
  {
   "cell_type": "code",
   "execution_count": 40,
   "id": "ae377d28-65bf-43fe-8b78-7bc24048d77b",
   "metadata": {},
   "outputs": [
    {
     "name": "stdin",
     "output_type": "stream",
     "text": [
      "Please input your grade on a scale from 0 to 10:  6.8\n"
     ]
    },
    {
     "name": "stdout",
     "output_type": "stream",
     "text": [
      "Your grade is a C\n"
     ]
    }
   ],
   "source": [
    "#Book_Chapter6_6.1\n",
    "#Converting grades to American grades\n",
    "\n",
    "grade=float(input(\"Please input your grade on a scale from 0 to 10: \"))\n",
    "if grade<0 or grade>10:\n",
    "    print(\"You have not provided a number within the requested interval\")\n",
    "else:\n",
    "    if grade<=10 and grade>=8.5:\n",
    "        print(\"Your grade is an A\")\n",
    "    elif grade>=7.5:\n",
    "        print(\"Your grade is a B\")\n",
    "    elif grade>=6.5:\n",
    "        print(\"Your grade is a C\")\n",
    "    elif grade>=5.5:\n",
    "        print(\"Your grade is a D\")\n",
    "    else:\n",
    "        print(\"Your grade is an F\")"
   ]
  },
  {
   "cell_type": "code",
   "execution_count": 41,
   "id": "a0f7eaf2-61a7-4b9c-bfc4-1be4e50e33f7",
   "metadata": {},
   "outputs": [
    {
     "name": "stdout",
     "output_type": "stream",
     "text": [
      "D\n"
     ]
    }
   ],
   "source": [
    "#Book_Chapter6_6.2\n",
    "#spot the reasoning error in the code below\n",
    "\n",
    "score = 98.0\n",
    "if score >= 60.0:\n",
    "    grade = 'D'\n",
    "elif score >= 70.0:\n",
    "    grade = 'C'\n",
    "elif score >= 80.0:\n",
    "    grade = 'B'\n",
    "elif score >= 90.0:\n",
    "    grade = 'A'\n",
    "else:\n",
    "    grade = 'F'\n",
    "print( grade )\n",
    "\n",
    "#the conditions are not in order AND multiple conditions can be satisfied by the same number"
   ]
  },
  {
   "cell_type": "code",
   "execution_count": 47,
   "id": "b39691c3-0305-4ca4-8563-76026faf4761",
   "metadata": {},
   "outputs": [
    {
     "name": "stdin",
     "output_type": "stream",
     "text": [
      "Write a word or short sentence:  I have a chameleon\n"
     ]
    },
    {
     "name": "stdout",
     "output_type": "stream",
     "text": [
      "There are 4 vowels in your sentence\n"
     ]
    }
   ],
   "source": [
    "#Book_Chapter6_6.3\n",
    "#number of different vowels in a user provided string\n",
    "\n",
    "a=input(\"Write a word or short sentence: \")\n",
    "vowels=[]\n",
    "for i in a:\n",
    "    if (i==\"A\" or i==\"a\") and i not in vowels:\n",
    "        vowels.append(i)\n",
    "    if i==\"E\" or i==\"e\" and i not in vowels:\n",
    "        vowels.append(i)\n",
    "    if i==\"I\" or i==\"i\" and i not in vowels:\n",
    "        vowels.append(i)\n",
    "    if i==\"O\" or i==\"o\" and i not in vowels:\n",
    "        vowels.append(i)\n",
    "    if i==\"U\" or i==\"u\" and i not in vowels:\n",
    "        vowels.append(i)\n",
    "\n",
    "if len(vowels)==0:\n",
    "    print(\"There are no vowels\")\n",
    "if len(vowels)==1:\n",
    "    print(\"There is one vowel in your sentence\")\n",
    "if len(vowels)>1:\n",
    "    print(\"There are\",len(vowels),\"vowels in your sentence\")\n"
   ]
  },
  {
   "cell_type": "code",
   "execution_count": 67,
   "id": "6355ffba-a1ac-485d-bf57-7f9618649226",
   "metadata": {},
   "outputs": [
    {
     "name": "stdin",
     "output_type": "stream",
     "text": [
      "What's the coefficient of the quadratic term? 3\n",
      "What's the coefficient of the linear term? -12\n",
      "What's the coefficient of the constant term? 5\n"
     ]
    },
    {
     "name": "stdout",
     "output_type": "stream",
     "text": [
      "This equation has two solutions. x1 = -2.36 and x2 =  0.69\n"
     ]
    }
   ],
   "source": [
    "#Book_chapter6_6.4\n",
    "#quadratic equations solver\n",
    "\n",
    "from math import sqrt\n",
    "#populating the coefficients list from user input\n",
    "coefficients=[]\n",
    "terms=[\"quadratic\",\"linear\",\"constant\"]\n",
    "for i in range(0,3):\n",
    "    question=\"What's the coefficient of the \" + terms[i] + \" term?\"\n",
    "    coefficients.append(float(input(question)))\n",
    "\n",
    "#possible solutions\n",
    "if coefficients[0]==0 and coefficients[1]==0:   #not an equation\n",
    "    print(\"This is not even an equation\")\n",
    "elif coefficients[0]==0 and coefficients[2]==0:   #not a quadratic \n",
    "    print(\"This is a linear equation. The solution is x = 0\")\n",
    "elif coefficients[0]==0:\n",
    "    print(\"This is a linear equation. The solution is x =\",round(-coefficients[2]/coefficients[1],2))\n",
    "else:\n",
    "    delta=pow(coefficients[1],2)-4*coefficients[0]*coefficients[2]    #calculating the discriminant\n",
    "    #checking for solutions\n",
    "    if delta<0:\n",
    "        print(\"This equation has no real solutions\")\n",
    "    elif delta==0:\n",
    "        print(\"This equation has one solution. x =\",-coefficients[1]/(2*coefficients[0]))\n",
    "    else:\n",
    "        solution1=(-coefficients[2]-sqrt(delta))/((2*coefficients[0]))\n",
    "        solution2=(-coefficients[2]+sqrt(delta))/((2*coefficients[0]))\n",
    "        print(\"This equation has two solutions. x1 =\",round(solution1,2),\"and x2 = \",round(solution2,2))\n",
    "    "
   ]
  }
 ],
 "metadata": {
  "kernelspec": {
   "display_name": "Python [conda env:env_master_2025] *",
   "language": "python",
   "name": "conda-env-env_master_2025-py"
  },
  "language_info": {
   "codemirror_mode": {
    "name": "ipython",
    "version": 3
   },
   "file_extension": ".py",
   "mimetype": "text/x-python",
   "name": "python",
   "nbconvert_exporter": "python",
   "pygments_lexer": "ipython3",
   "version": "3.12.7"
  }
 },
 "nbformat": 4,
 "nbformat_minor": 5
}
